{
 "cells": [
  {
   "cell_type": "code",
   "execution_count": 6,
   "metadata": {},
   "outputs": [],
   "source": [
    "import numpy as np\n",
    "import matplotlib.pyplot as plt\n"
   ]
  },
  {
   "cell_type": "code",
   "execution_count": 48,
   "metadata": {},
   "outputs": [
    {
     "data": {
      "image/png": "[encoded data removed]",
      "text/plain": [
       "<Figure size 432x288 with 1 Axes>"
      ]
     },
     "metadata": {
      "needs_background": "light"
     },
     "output_type": "display_data"
    }
   ],
   "source": [
    "plt.quiver(0,0,3,4 , scale_units='xy',angles='xy', scale=1, color='red')     \n",
    "plt.xlim(-10,10)\n",
    "plt.ylim(-10,10)\n",
    "plt.quiver(0,0,-3,4, scale_units='xy',angles='xy', scale=1, color='green')\n",
    "  \n",
    "plt.show()"
   ]
  },
  {
   "cell_type": "code",
   "execution_count": 1,
   "metadata": {},
   "outputs": [
    {
     "name": "stdout",
     "output_type": "stream",
     "text": [
      "True\n",
      "[1, 2, 3, 4, 5, 6, 7, 8, 9, 10]\n",
      "Autodeleting!!!\n",
      "Enter a number\n"
     ]
    },
    {
     "name": "stderr",
     "output_type": "stream",
     "text": [
      "Exception in thread Thread-6:\n",
      "Traceback (most recent call last):\n",
      "  File \"C:\\ProgramData\\Anaconda3\\lib\\threading.py\", line 926, in _bootstrap_inner\n",
      "    self.run()\n",
      "  File \"C:\\ProgramData\\Anaconda3\\lib\\threading.py\", line 870, in run\n",
      "    self._target(*self._args, **self._kwargs)\n",
      "  File \"<ipython-input-1-1956bf4eb79a>\", line 16, in creates_items\n",
      "    x=int(input())\n",
      "EOFError: EOF when reading a line\n",
      "\n"
     ]
    },
    {
     "name": "stdout",
     "output_type": "stream",
     "text": [
      "[1, 2, 3, 4, 5, 6, 7, 8, 9]\n",
      "Autodeleting!!!\n",
      "[1, 2, 3, 4, 5, 6, 7, 8]\n",
      "Autodeleting!!!\n",
      "[1, 2, 3, 4, 5, 6, 7]\n",
      "Autodeleting!!!\n",
      "[1, 2, 3, 4, 5, 6]\n",
      "Autodeleting!!!\n",
      "[1, 2, 3, 4, 5]\n",
      "Autodeleting!!!\n",
      "[1, 2, 3, 4]\n",
      "Autodeleting!!!\n",
      "[1, 2, 3]\n",
      "Autodeleting!!!\n",
      "[1, 2]\n",
      "Autodeleting!!!\n",
      "[1]\n",
      "Autodeleting!!!\n"
     ]
    }
   ],
   "source": [
    "# -*- coding: utf-8 -*-\n",
    "\"\"\"\n",
    "Created on Thu Jun 29 11:50:30 2017\n",
    "@author: Moondra\n",
    "\"\"\"\n",
    "\n",
    "import threading\n",
    "import time\n",
    "myList=[1,2,3,4,5,6,7,8,9,10]\n",
    "\n",
    "def creates_items():\n",
    "    global myList\n",
    "    while True:\n",
    "        time.sleep(2)\n",
    "        print(\"Enter a number\")\n",
    "        x=int(input())\n",
    "        \n",
    "      #  myList.append(x)\n",
    "        print(\"Number has been added\")\n",
    "\n",
    "def limits_items():\n",
    "    global myList\n",
    "    while len(myList):\n",
    "        print(myList)\n",
    "        print(\"Autodeleting!!!\")\n",
    "        time.sleep(10)\n",
    "        myList.pop()\n",
    "        \n",
    "\n",
    "\n",
    "creator1 = threading.Thread(target  = creates_items)\n",
    "\n",
    "limitor = threading.Thread(target = limits_items, daemon = True)\n",
    "\n",
    "print(limitor.isDaemon())\n",
    "\n",
    "\n",
    "creator1.start()\n",
    "limitor.start()\n",
    "\n",
    "# creator1.join()\n",
    "# creator2.join()\n",
    "\n",
    "\n",
    "\n",
    "\n"
   ]
  },
  {
   "cell_type": "markdown",
   "metadata": {},
   "source": [
    "#Writing a funtionn to plot vectors!\n"
   ]
  }
 ],
 "metadata": {
  "kernelspec": {
   "display_name": "Python 3",
   "language": "python",
   "name": "python3"
  },
  "language_info": {
   "codemirror_mode": {
    "name": "ipython",
    "version": 3
   },
   "file_extension": ".py",
   "mimetype": "text/x-python",
   "name": "python",
   "nbconvert_exporter": "python",
   "pygments_lexer": "ipython3",
   "version": "3.7.6"
  }
 },
 "nbformat": 4,
 "nbformat_minor": 4
}
