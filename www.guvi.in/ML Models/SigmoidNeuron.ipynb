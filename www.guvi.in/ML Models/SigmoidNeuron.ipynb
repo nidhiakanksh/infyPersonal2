{
 "cells": [
  {
   "cell_type": "markdown",
   "metadata": {},
   "source": [
    "# Sigmoid Neuron\n"
   ]
  },
  {
   "cell_type": "code",
   "execution_count": 24,
   "metadata": {},
   "outputs": [],
   "source": [
    "import numpy as np\n",
    "import matplotlib.pyplot as plt"
   ]
  },
  {
   "cell_type": "code",
   "execution_count": 29,
   "metadata": {},
   "outputs": [],
   "source": [
    "X=[0.5,2.5]\n",
    "Y=[0.2,0.9]\n",
    "X=np.asarray(X)\n",
    "Y=np.asarray(Y)"
   ]
  },
  {
   "cell_type": "code",
   "execution_count": 37,
   "metadata": {},
   "outputs": [],
   "source": [
    "def f(w,b,x):\n",
    "    #sigmoid function with parameters w,b\n",
    "    return 1/(1.0+np.exp(-(np.dot(w,x)+b)))"
   ]
  },
  {
   "cell_type": "code",
   "execution_count": 28,
   "metadata": {},
   "outputs": [],
   "source": [
    "def error(w,b):\n",
    "    err=0.0\n",
    "    for x,y in zip(X,Y):\n",
    "        fx=f(w,b,x)\n",
    "        err+= (fx-y)**2\n",
    "    return (1/(X.shape[0]))*err"
   ]
  },
  {
   "cell_type": "code",
   "execution_count": 41,
   "metadata": {},
   "outputs": [],
   "source": [
    "def grad_b(w,b,x,y):                       \n",
    "    fx=f(w,b,x)\n",
    "    return (fx-y)*fx*(1-fx)\n",
    "\n",
    "def grad_w(w,b,x,y):                              \n",
    "    fx=f(w,b,x)\n",
    "    return (fx-y)*fx*(1-fx)*x\n"
   ]
  },
  {
   "cell_type": "code",
   "execution_count": 42,
   "metadata": {},
   "outputs": [],
   "source": [
    "def do_gradient_descent():\n",
    "    w,b,eta=-2,-2,1.0\n",
    "    max_epochs=100\n",
    "    for i in range(max_epochs):\n",
    "        dw=0\n",
    "        db=0\n",
    "        for x,y in zip(X,Y):\n",
    "            dw+=grad_w(w,b,x,y)\n",
    "            db+=grad_b(w,b,x,y)\n",
    "        w=w-eta*dw\n",
    "        b=b-eta*db\n",
    "        "
   ]
  },
  {
   "cell_type": "markdown",
   "metadata": {},
   "source": [
    "# Plotting Sigmoid"
   ]
  },
  {
   "cell_type": "code",
   "execution_count": 43,
   "metadata": {},
   "outputs": [],
   "source": [
    "import numpy as np\n",
    "import matplotlib.pyplot as plt"
   ]
  },
  {
   "cell_type": "code",
   "execution_count": 178,
   "metadata": {},
   "outputs": [],
   "source": [
    "def sigmoid(w,b,x):\n",
    "    #sigmoid function with parameters w,b\n",
    "    return 1/(1.0+np.exp(-(np.dot(w,x)+b)))"
   ]
  },
  {
   "cell_type": "code",
   "execution_count": 46,
   "metadata": {},
   "outputs": [
    {
     "data": {
      "text/plain": [
       "0.7310585786300049"
      ]
     },
     "execution_count": 46,
     "metadata": {},
     "output_type": "execute_result"
    }
   ],
   "source": [
    "sigmoid(0,1,2.5)"
   ]
  },
  {
   "cell_type": "code",
   "execution_count": 64,
   "metadata": {},
   "outputs": [],
   "source": [
    "w=-0.9\n",
    "b=15\n",
    "x=np.linspace(-10,10,100)        # The third parameter in this function is the number of points we want"
   ]
  },
  {
   "cell_type": "code",
   "execution_count": 65,
   "metadata": {},
   "outputs": [],
   "source": [
    "a=sigmoid(w,b,x)      #Python is still able to compute this function due to broadcasting"
   ]
  },
  {
   "cell_type": "code",
   "execution_count": 66,
   "metadata": {},
   "outputs": [
    {
     "data": {
      "text/plain": [
       "[<matplotlib.lines.Line2D at 0x160f48cfc88>]"
      ]
     },
     "execution_count": 66,
     "metadata": {},
     "output_type": "execute_result"
    },
    {
     "data": {
      "image/png": "[encoded data removed]",
      "text/plain": [
       "<Figure size 432x288 with 1 Axes>"
      ]
     },
     "metadata": {
      "needs_background": "light"
     },
     "output_type": "display_data"
    }
   ],
   "source": [
    "plt.plot(a)"
   ]
  },
  {
   "cell_type": "code",
   "execution_count": 67,
   "metadata": {},
   "outputs": [],
   "source": [
    "def sigmoid(w1,w2,x1,x2,b):\n",
    "    #sigmoid function with parameters w,b\n",
    "    return 1/(1.0+np.exp(-(np.dot(w2,x2)+np.dot(w1,x1)+b)))"
   ]
  },
  {
   "cell_type": "code",
   "execution_count": 155,
   "metadata": {},
   "outputs": [],
   "source": [
    "w1=-0.8\n",
    "w2=-0.8\n",
    "x1=np.linspace(-100,100,1000)\n",
    "x2=np.linspace(-100,100,1000)"
   ]
  },
  {
   "cell_type": "code",
   "execution_count": 156,
   "metadata": {},
   "outputs": [
    {
     "data": {
      "text/plain": [
       "array([1.00000000e+00, 1.00000000e+00, 1.00000000e+00, 1.00000000e+00,\n",
       "       1.00000000e+00, 1.00000000e+00, 1.00000000e+00, 1.00000000e+00,\n",
       "       1.00000000e+00, 1.00000000e+00, 1.00000000e+00, 1.00000000e+00,\n",
       "       1.00000000e+00, 1.00000000e+00, 1.00000000e+00, 1.00000000e+00,\n",
       "       1.00000000e+00, 1.00000000e+00, 1.00000000e+00, 1.00000000e+00,\n",
       "       1.00000000e+00, 1.00000000e+00, 1.00000000e+00, 1.00000000e+00,\n",
       "       1.00000000e+00, 1.00000000e+00, 1.00000000e+00, 1.00000000e+00,\n",
       "       1.00000000e+00, 1.00000000e+00, 1.00000000e+00, 1.00000000e+00,\n",
       "       1.00000000e+00, 1.00000000e+00, 1.00000000e+00, 1.00000000e+00,\n",
       "       1.00000000e+00, 1.00000000e+00, 1.00000000e+00, 1.00000000e+00,\n",
       "       1.00000000e+00, 1.00000000e+00, 1.00000000e+00, 1.00000000e+00,\n",
       "       1.00000000e+00, 1.00000000e+00, 1.00000000e+00, 1.00000000e+00,\n",
       "       1.00000000e+00, 1.00000000e+00, 1.00000000e+00, 1.00000000e+00,\n",
       "       1.00000000e+00, 1.00000000e+00, 1.00000000e+00, 1.00000000e+00,\n",
       "       1.00000000e+00, 1.00000000e+00, 1.00000000e+00, 1.00000000e+00,\n",
       "       1.00000000e+00, 1.00000000e+00, 1.00000000e+00, 1.00000000e+00,\n",
       "       1.00000000e+00, 1.00000000e+00, 1.00000000e+00, 1.00000000e+00,\n",
       "       1.00000000e+00, 1.00000000e+00, 1.00000000e+00, 1.00000000e+00,\n",
       "       1.00000000e+00, 1.00000000e+00, 1.00000000e+00, 1.00000000e+00,\n",
       "       1.00000000e+00, 1.00000000e+00, 1.00000000e+00, 1.00000000e+00,\n",
       "       1.00000000e+00, 1.00000000e+00, 1.00000000e+00, 1.00000000e+00,\n",
       "       1.00000000e+00, 1.00000000e+00, 1.00000000e+00, 1.00000000e+00,\n",
       "       1.00000000e+00, 1.00000000e+00, 1.00000000e+00, 1.00000000e+00,\n",
       "       1.00000000e+00, 1.00000000e+00, 1.00000000e+00, 1.00000000e+00,\n",
       "       1.00000000e+00, 1.00000000e+00, 1.00000000e+00, 1.00000000e+00,\n",
       "       1.00000000e+00, 1.00000000e+00, 1.00000000e+00, 1.00000000e+00,\n",
       "       1.00000000e+00, 1.00000000e+00, 1.00000000e+00, 1.00000000e+00,\n",
       "       1.00000000e+00, 1.00000000e+00, 1.00000000e+00, 1.00000000e+00,\n",
       "       1.00000000e+00, 1.00000000e+00, 1.00000000e+00, 1.00000000e+00,\n",
       "       1.00000000e+00, 1.00000000e+00, 1.00000000e+00, 1.00000000e+00,\n",
       "       1.00000000e+00, 1.00000000e+00, 1.00000000e+00, 1.00000000e+00,\n",
       "       1.00000000e+00, 1.00000000e+00, 1.00000000e+00, 1.00000000e+00,\n",
       "       1.00000000e+00, 1.00000000e+00, 1.00000000e+00, 1.00000000e+00,\n",
       "       1.00000000e+00, 1.00000000e+00, 1.00000000e+00, 1.00000000e+00,\n",
       "       1.00000000e+00, 1.00000000e+00, 1.00000000e+00, 1.00000000e+00,\n",
       "       1.00000000e+00, 1.00000000e+00, 1.00000000e+00, 1.00000000e+00,\n",
       "       1.00000000e+00, 1.00000000e+00, 1.00000000e+00, 1.00000000e+00,\n",
       "       1.00000000e+00, 1.00000000e+00, 1.00000000e+00, 1.00000000e+00,\n",
       "       1.00000000e+00, 1.00000000e+00, 1.00000000e+00, 1.00000000e+00,\n",
       "       1.00000000e+00, 1.00000000e+00, 1.00000000e+00, 1.00000000e+00,\n",
       "       1.00000000e+00, 1.00000000e+00, 1.00000000e+00, 1.00000000e+00,\n",
       "       1.00000000e+00, 1.00000000e+00, 1.00000000e+00, 1.00000000e+00,\n",
       "       1.00000000e+00, 1.00000000e+00, 1.00000000e+00, 1.00000000e+00,\n",
       "       1.00000000e+00, 1.00000000e+00, 1.00000000e+00, 1.00000000e+00,\n",
       "       1.00000000e+00, 1.00000000e+00, 1.00000000e+00, 1.00000000e+00,\n",
       "       1.00000000e+00, 1.00000000e+00, 1.00000000e+00, 1.00000000e+00,\n",
       "       1.00000000e+00, 1.00000000e+00, 1.00000000e+00, 1.00000000e+00,\n",
       "       1.00000000e+00, 1.00000000e+00, 1.00000000e+00, 1.00000000e+00,\n",
       "       1.00000000e+00, 1.00000000e+00, 1.00000000e+00, 1.00000000e+00,\n",
       "       1.00000000e+00, 1.00000000e+00, 1.00000000e+00, 1.00000000e+00,\n",
       "       1.00000000e+00, 1.00000000e+00, 1.00000000e+00, 1.00000000e+00,\n",
       "       1.00000000e+00, 1.00000000e+00, 1.00000000e+00, 1.00000000e+00,\n",
       "       1.00000000e+00, 1.00000000e+00, 1.00000000e+00, 1.00000000e+00,\n",
       "       1.00000000e+00, 1.00000000e+00, 1.00000000e+00, 1.00000000e+00,\n",
       "       1.00000000e+00, 1.00000000e+00, 1.00000000e+00, 1.00000000e+00,\n",
       "       1.00000000e+00, 1.00000000e+00, 1.00000000e+00, 1.00000000e+00,\n",
       "       1.00000000e+00, 1.00000000e+00, 1.00000000e+00, 1.00000000e+00,\n",
       "       1.00000000e+00, 1.00000000e+00, 1.00000000e+00, 1.00000000e+00,\n",
       "       1.00000000e+00, 1.00000000e+00, 1.00000000e+00, 1.00000000e+00,\n",
       "       1.00000000e+00, 1.00000000e+00, 1.00000000e+00, 1.00000000e+00,\n",
       "       1.00000000e+00, 1.00000000e+00, 1.00000000e+00, 1.00000000e+00,\n",
       "       1.00000000e+00, 1.00000000e+00, 1.00000000e+00, 1.00000000e+00,\n",
       "       1.00000000e+00, 1.00000000e+00, 1.00000000e+00, 1.00000000e+00,\n",
       "       1.00000000e+00, 1.00000000e+00, 1.00000000e+00, 1.00000000e+00,\n",
       "       1.00000000e+00, 1.00000000e+00, 1.00000000e+00, 1.00000000e+00,\n",
       "       1.00000000e+00, 1.00000000e+00, 1.00000000e+00, 1.00000000e+00,\n",
       "       1.00000000e+00, 1.00000000e+00, 1.00000000e+00, 1.00000000e+00,\n",
       "       1.00000000e+00, 1.00000000e+00, 1.00000000e+00, 1.00000000e+00,\n",
       "       1.00000000e+00, 1.00000000e+00, 1.00000000e+00, 1.00000000e+00,\n",
       "       1.00000000e+00, 1.00000000e+00, 1.00000000e+00, 1.00000000e+00,\n",
       "       1.00000000e+00, 1.00000000e+00, 1.00000000e+00, 1.00000000e+00,\n",
       "       1.00000000e+00, 1.00000000e+00, 1.00000000e+00, 1.00000000e+00,\n",
       "       1.00000000e+00, 1.00000000e+00, 1.00000000e+00, 1.00000000e+00,\n",
       "       1.00000000e+00, 1.00000000e+00, 1.00000000e+00, 1.00000000e+00,\n",
       "       1.00000000e+00, 1.00000000e+00, 1.00000000e+00, 1.00000000e+00,\n",
       "       1.00000000e+00, 1.00000000e+00, 1.00000000e+00, 1.00000000e+00,\n",
       "       1.00000000e+00, 1.00000000e+00, 1.00000000e+00, 1.00000000e+00,\n",
       "       1.00000000e+00, 1.00000000e+00, 1.00000000e+00, 1.00000000e+00,\n",
       "       1.00000000e+00, 1.00000000e+00, 1.00000000e+00, 1.00000000e+00,\n",
       "       1.00000000e+00, 1.00000000e+00, 1.00000000e+00, 1.00000000e+00,\n",
       "       1.00000000e+00, 1.00000000e+00, 1.00000000e+00, 1.00000000e+00,\n",
       "       1.00000000e+00, 1.00000000e+00, 1.00000000e+00, 1.00000000e+00,\n",
       "       1.00000000e+00, 1.00000000e+00, 1.00000000e+00, 1.00000000e+00,\n",
       "       1.00000000e+00, 1.00000000e+00, 1.00000000e+00, 1.00000000e+00,\n",
       "       1.00000000e+00, 1.00000000e+00, 1.00000000e+00, 1.00000000e+00,\n",
       "       1.00000000e+00, 1.00000000e+00, 1.00000000e+00, 1.00000000e+00,\n",
       "       1.00000000e+00, 1.00000000e+00, 1.00000000e+00, 1.00000000e+00,\n",
       "       1.00000000e+00, 1.00000000e+00, 1.00000000e+00, 1.00000000e+00,\n",
       "       1.00000000e+00, 1.00000000e+00, 1.00000000e+00, 1.00000000e+00,\n",
       "       1.00000000e+00, 1.00000000e+00, 1.00000000e+00, 1.00000000e+00,\n",
       "       1.00000000e+00, 1.00000000e+00, 1.00000000e+00, 1.00000000e+00,\n",
       "       1.00000000e+00, 1.00000000e+00, 1.00000000e+00, 1.00000000e+00,\n",
       "       1.00000000e+00, 1.00000000e+00, 1.00000000e+00, 1.00000000e+00,\n",
       "       1.00000000e+00, 1.00000000e+00, 1.00000000e+00, 1.00000000e+00,\n",
       "       1.00000000e+00, 1.00000000e+00, 1.00000000e+00, 1.00000000e+00,\n",
       "       1.00000000e+00, 1.00000000e+00, 1.00000000e+00, 1.00000000e+00,\n",
       "       1.00000000e+00, 1.00000000e+00, 1.00000000e+00, 1.00000000e+00,\n",
       "       1.00000000e+00, 1.00000000e+00, 1.00000000e+00, 1.00000000e+00,\n",
       "       1.00000000e+00, 1.00000000e+00, 1.00000000e+00, 1.00000000e+00,\n",
       "       1.00000000e+00, 1.00000000e+00, 1.00000000e+00, 1.00000000e+00,\n",
       "       1.00000000e+00, 1.00000000e+00, 1.00000000e+00, 1.00000000e+00,\n",
       "       1.00000000e+00, 1.00000000e+00, 1.00000000e+00, 1.00000000e+00,\n",
       "       1.00000000e+00, 1.00000000e+00, 1.00000000e+00, 1.00000000e+00,\n",
       "       1.00000000e+00, 1.00000000e+00, 1.00000000e+00, 1.00000000e+00,\n",
       "       1.00000000e+00, 1.00000000e+00, 1.00000000e+00, 1.00000000e+00,\n",
       "       1.00000000e+00, 1.00000000e+00, 1.00000000e+00, 1.00000000e+00,\n",
       "       1.00000000e+00, 1.00000000e+00, 1.00000000e+00, 1.00000000e+00,\n",
       "       1.00000000e+00, 1.00000000e+00, 1.00000000e+00, 1.00000000e+00,\n",
       "       1.00000000e+00, 1.00000000e+00, 1.00000000e+00, 1.00000000e+00,\n",
       "       1.00000000e+00, 1.00000000e+00, 1.00000000e+00, 1.00000000e+00,\n",
       "       1.00000000e+00, 1.00000000e+00, 1.00000000e+00, 1.00000000e+00,\n",
       "       1.00000000e+00, 1.00000000e+00, 1.00000000e+00, 1.00000000e+00,\n",
       "       1.00000000e+00, 1.00000000e+00, 1.00000000e+00, 1.00000000e+00,\n",
       "       1.00000000e+00, 1.00000000e+00, 1.00000000e+00, 1.00000000e+00,\n",
       "       1.00000000e+00, 1.00000000e+00, 1.00000000e+00, 1.00000000e+00,\n",
       "       1.00000000e+00, 1.00000000e+00, 1.00000000e+00, 1.00000000e+00,\n",
       "       1.00000000e+00, 1.00000000e+00, 1.00000000e+00, 1.00000000e+00,\n",
       "       1.00000000e+00, 1.00000000e+00, 1.00000000e+00, 1.00000000e+00,\n",
       "       1.00000000e+00, 1.00000000e+00, 1.00000000e+00, 1.00000000e+00,\n",
       "       1.00000000e+00, 1.00000000e+00, 1.00000000e+00, 1.00000000e+00,\n",
       "       9.99999999e-01, 9.99999999e-01, 9.99999999e-01, 9.99999998e-01,\n",
       "       9.99999998e-01, 9.99999997e-01, 9.99999996e-01, 9.99999994e-01,\n",
       "       9.99999992e-01, 9.99999989e-01, 9.99999985e-01, 9.99999980e-01,\n",
       "       9.99999972e-01, 9.99999962e-01, 9.99999947e-01, 9.99999928e-01,\n",
       "       9.99999900e-01, 9.99999863e-01, 9.99999811e-01, 9.99999739e-01,\n",
       "       9.99999641e-01, 9.99999505e-01, 9.99999319e-01, 9.99999061e-01,\n",
       "       9.99998707e-01, 9.99998219e-01, 9.99997546e-01, 9.99996620e-01,\n",
       "       9.99995344e-01, 9.99993586e-01, 9.99991164e-01, 9.99987827e-01,\n",
       "       9.99983232e-01, 9.99976900e-01, 9.99968179e-01, 9.99956165e-01,\n",
       "       9.99939615e-01, 9.99916818e-01, 9.99885414e-01, 9.99842157e-01,\n",
       "       9.99782574e-01, 9.99700505e-01, 9.99587472e-01, 9.99431802e-01,\n",
       "       9.99217436e-01, 9.98922283e-01, 9.98515974e-01, 9.97956797e-01,\n",
       "       9.97187516e-01, 9.96129720e-01, 9.94676202e-01, 9.92680813e-01,\n",
       "       9.89945102e-01, 9.86201071e-01, 9.81089548e-01, 9.74134230e-01,\n",
       "       9.64712737e-01, 9.52028505e-01, 9.35091613e-01, 9.12723150e-01,\n",
       "       8.83605666e-01, 8.46408641e-01, 8.00014724e-01, 7.43848071e-01,\n",
       "       6.78251013e-01, 6.04780775e-01, 5.26252113e-01, 4.46402911e-01,\n",
       "       3.69226740e-01, 2.98205903e-01, 2.35740426e-01, 1.82948640e-01,\n",
       "       1.39816268e-01, 1.05539341e-01, 7.88949073e-02, 5.85369029e-02,\n",
       "       4.31857747e-02, 3.17247759e-02, 2.32315413e-02, 1.69722272e-02,\n",
       "       1.23779994e-02, 9.01598135e-03, 6.56106264e-03, 4.77136370e-03,\n",
       "       3.46814699e-03, 2.51998043e-03, 1.83055965e-03, 1.32950045e-03,\n",
       "       9.65458088e-04, 7.01027434e-04, 5.08985160e-04, 3.69532264e-04,\n",
       "       2.68276730e-04, 1.94760819e-04, 1.41387634e-04, 1.02639590e-04,\n",
       "       7.45098656e-05, 5.40890435e-05, 3.92647099e-05, 2.85032065e-05,\n",
       "       2.06911088e-05, 1.50201019e-05, 1.09033843e-05, 7.91496995e-06,\n",
       "       5.74561954e-06, 4.17084645e-06, 3.02768961e-06, 2.19785159e-06,\n",
       "       1.59545764e-06, 1.15816949e-06, 8.40734578e-07, 6.10303221e-07,\n",
       "       4.43029236e-07, 3.21602260e-07, 2.33456399e-07, 1.69469857e-07,\n",
       "       1.23020967e-07, 8.93029495e-08, 6.48264838e-08, 4.70586134e-08,\n",
       "       3.41606231e-08, 2.47977593e-08, 1.80011021e-08, 1.30672967e-08,\n",
       "       9.48576595e-09, 6.88587379e-09, 4.99856923e-09, 3.62854376e-09,\n",
       "       2.63401969e-09, 1.91207829e-09, 1.38800913e-09, 1.00757869e-09,\n",
       "       7.31417973e-10, 5.30948356e-10, 3.85424159e-10, 2.79785746e-10,\n",
       "       2.03101082e-10, 1.47434422e-10, 1.07025076e-10, 7.76912655e-11,\n",
       "       5.63973695e-11, 4.09397796e-11, 2.97188605e-11, 2.15734104e-11,\n",
       "       1.56604940e-11, 1.13682106e-11, 8.25237135e-12, 5.99053231e-12,\n",
       "       4.34862609e-12, 3.15673932e-12, 2.29152908e-12, 1.66345871e-12,\n",
       "       1.20753208e-12, 8.76567430e-13, 6.36314738e-13, 4.61911351e-13,\n",
       "       3.35309059e-13, 2.43406370e-13, 1.76692694e-13, 1.28264137e-13,\n",
       "       9.31090503e-14, 6.75893935e-14, 4.90642542e-14, 3.56165504e-14,\n",
       "       2.58546407e-14, 1.87683096e-14, 1.36242251e-14, 9.89004947e-15,\n",
       "       7.17934984e-15, 5.21160832e-15, 3.78319234e-15, 2.74628164e-15,\n",
       "       1.99357109e-15, 1.44716609e-15, 1.05052171e-15, 7.62591014e-16,\n",
       "       5.53577380e-16, 4.01850940e-16, 2.91710217e-16, 2.11757252e-16,\n",
       "       1.53718078e-16, 1.11586485e-16, 8.10024679e-17, 5.88010259e-17,\n",
       "       4.26846334e-17, 3.09854786e-17, 2.24928693e-17, 1.63279444e-17,\n",
       "       1.18527238e-17, 8.60408749e-18, 6.24584885e-18, 4.53396458e-18,\n",
       "       3.29127958e-18, 2.38919407e-18, 1.73435533e-18, 1.25899711e-18,\n",
       "       9.13926741e-19, 6.63434477e-19, 4.81598017e-19, 3.49599934e-19,\n",
       "       2.53780352e-19, 1.84223338e-19, 1.33730756e-19, 9.70773588e-20,\n",
       "       7.04700540e-20, 5.11553731e-20, 3.71345281e-20, 2.69565657e-20,\n",
       "       1.95682151e-20, 1.42048897e-20, 1.03115635e-20, 7.48533379e-21,\n",
       "       5.43372711e-21, 3.94443203e-21, 2.86332819e-21, 2.07853710e-21,\n",
       "       1.50884432e-21, 1.09529495e-21, 7.95092650e-22, 5.77170853e-22,\n",
       "       4.18977830e-22, 3.04142909e-22, 2.20782348e-22, 1.60269544e-22,\n",
       "       1.16342302e-22, 8.44547938e-23, 6.13071261e-23, 4.45038528e-23,\n",
       "       3.23060799e-23, 2.34515156e-23, 1.70238415e-23, 1.23578870e-23,\n",
       "       8.97079377e-24, 6.51204698e-24, 4.72720218e-24, 3.43155394e-24,\n",
       "       2.49102154e-24, 1.80827357e-24, 1.31265558e-24, 9.52878307e-25,\n",
       "       6.91710061e-25, 5.02123728e-25, 3.64499886e-25, 2.64596472e-25,\n",
       "       1.92074938e-25, 1.39430362e-25, 1.01214797e-25, 7.34734883e-26,\n",
       "       5.33356156e-26, 3.87172020e-26, 2.81054548e-26, 2.04022126e-26,\n",
       "       1.48103022e-26, 1.07510424e-26, 7.80435878e-27, 5.66531261e-27,\n",
       "       4.11254375e-27, 2.98536326e-27, 2.16712437e-27, 1.57315128e-27,\n",
       "       1.14197643e-27, 8.28979505e-28, 6.01769879e-28, 4.36834669e-28,\n",
       "       3.17105483e-28, 2.30192094e-28, 1.67100233e-28, 1.21300812e-28,\n",
       "       8.80542578e-29, 6.39200363e-29, 4.64006074e-29, 3.36829653e-29,\n",
       "       2.44510194e-29, 1.77493978e-29, 1.28845803e-29, 9.35312908e-30,\n",
       "       6.78959048e-30, 4.92867558e-30, 3.57780680e-30, 2.59718890e-30,\n",
       "       1.88534221e-30, 1.36860097e-30, 9.93489988e-31, 7.21190749e-31,\n",
       "       5.23524246e-31, 3.80034875e-31, 2.75873576e-31, 2.00261174e-31,\n",
       "       1.45372885e-31, 1.05528572e-31, 7.66049290e-32, 5.56087800e-32,\n",
       "       4.03673295e-32, 2.93033095e-32, 2.12717551e-32, 1.54415175e-32,\n",
       "       1.12092519e-32, 8.13698062e-33, 5.90676828e-33, 4.28782040e-33,\n",
       "       3.11259947e-33, 2.25948723e-33, 1.64019900e-33, 1.19064748e-33,\n",
       "       8.64310619e-34, 6.27417317e-34, 4.55452566e-34, 3.30620521e-34,\n",
       "       2.40002883e-34, 1.74222047e-34, 1.26470654e-34, 9.18071310e-35,\n",
       "       6.66443088e-35, 4.83782017e-35, 3.51185336e-35, 2.54931221e-35,\n",
       "       1.85058773e-35, 1.34337212e-35, 9.75175952e-36, 7.07896289e-36,\n",
       "       5.13873578e-36, 3.73029296e-36, 2.70788111e-36, 1.96569551e-36,\n",
       "       1.42693075e-36, 1.03583254e-36, 7.51927905e-37, 5.45836854e-37,\n",
       "       3.96231964e-37, 2.87631310e-37, 2.08796307e-37, 1.51568679e-37,\n",
       "       1.10026201e-37, 7.98698317e-38, 5.79788266e-38, 4.20877854e-38,\n",
       "       3.05522168e-38, 2.21783575e-38, 1.60996351e-38, 1.16869903e-38,\n",
       "       8.48377880e-39, 6.15851480e-39, 4.47056735e-39, 3.24525848e-39,\n",
       "       2.35578660e-39, 1.71010430e-39, 1.24139288e-39, 9.01147545e-40,\n",
       "       6.54157848e-40, 4.74863959e-40, 3.44711571e-40, 2.50231808e-40,\n",
       "       1.81647392e-40, 1.31860834e-40, 9.57199517e-41, 6.94846898e-41,\n",
       "       5.04400811e-41, 3.66152858e-41, 2.65796392e-41, 1.92945979e-41,\n",
       "       1.40062665e-41, 1.01673796e-41, 7.38066834e-42, 5.35774874e-42,\n",
       "       3.88927807e-42, 2.82329103e-42, 2.04947347e-42, 1.48774655e-42,\n",
       "       1.07997973e-42, 7.83975079e-43, 5.69100425e-43, 4.13119374e-43,\n",
       "       2.99890159e-43, 2.17695207e-43, 1.58028537e-43, 1.14715518e-43,\n",
       "       8.32738847e-44, 6.04498847e-44, 4.38815672e-44, 3.18543525e-44,\n",
       "       2.31235993e-44, 1.67858016e-44, 1.21850899e-44, 8.84535753e-45,\n",
       "       6.42099075e-45, 4.66110296e-45, 3.38357143e-45, 2.45619024e-45,\n",
       "       1.78298896e-45, 1.29430106e-45, 9.39554461e-46, 6.82038061e-46,\n",
       "       4.95102665e-46, 3.59403181e-46, 2.60896690e-46, 1.89389205e-46,\n",
       "       1.37480744e-46, 9.97995369e-47, 7.24461279e-47, 5.25898377e-47,\n",
       "       3.81758296e-47, 2.77124636e-47, 2.01169339e-47, 1.46032137e-47,\n",
       "       1.06007134e-47, 7.69523249e-48, 5.58609604e-48, 4.05503914e-48,\n",
       "       2.94361971e-48, 2.13682204e-48, 1.55115432e-48, 1.12600848e-48,\n",
       "       8.17388104e-49, 5.93355490e-49, 4.30726525e-49, 3.12671480e-49,\n",
       "       2.26973379e-49, 1.64763715e-49, 1.19604695e-49, 8.68230183e-50,\n",
       "       6.30262593e-50, 4.57517999e-50, 3.32119853e-50, 2.41091273e-50,\n",
       "       1.75012127e-50, 1.27044186e-50, 9.22234674e-51, 6.69465343e-51,\n",
       "       4.85975921e-51, 3.52777927e-51, 2.56087309e-51, 1.85897996e-51,\n",
       "       1.34946418e-51, 9.79598280e-52, 7.11106529e-52, 5.16203944e-52,\n",
       "       3.74720947e-52, 2.72016109e-52, 1.97460975e-52, 1.43340174e-52,\n",
       "       1.04052994e-52, 7.55337825e-53, 5.48312171e-53, 3.98028838e-53,\n",
       "       2.88935690e-53, 2.09743178e-53, 1.52256028e-53, 1.10525159e-53,\n",
       "       8.02320337e-54, 5.82417550e-54, 4.22786494e-54, 3.06907681e-54,\n",
       "       2.22789342e-54, 1.61726453e-54, 1.17399897e-54, 8.52225191e-55,\n",
       "       6.18644306e-55, 4.49084093e-55, 3.25997542e-55, 2.36646986e-55,\n",
       "       1.71785946e-55, 1.24702248e-55, 9.05234161e-56, 6.57124390e-56,\n",
       "       4.77017421e-56, 3.46274804e-56, 2.51366585e-56, 1.82471145e-56,\n",
       "       1.32458810e-56, 9.61540324e-57, 6.97997962e-57, 5.06688219e-57,\n",
       "       3.67813325e-57, 2.67001752e-57, 1.93820971e-57, 1.40697836e-57,\n",
       "       1.02134877e-57, 7.41413896e-58, 5.38204561e-58, 3.90691557e-58,\n",
       "       2.83609438e-58, 2.05876763e-58, 1.49449334e-58, 1.08487733e-58,\n",
       "       7.87530330e-59, 5.71681240e-59, 4.14992830e-59, 3.01250132e-59,\n",
       "       2.18682434e-59, 1.58745181e-59, 1.15235742e-59, 8.36515236e-60,\n",
       "       6.07240191e-60, 4.40805658e-60, 3.19988089e-60, 2.32284625e-60,\n",
       "       1.68619236e-60, 1.22403481e-60, 8.88547036e-61, 6.45010932e-61,\n",
       "       4.68224061e-61, 3.39891560e-61, 2.46732882e-61, 1.79107464e-61,\n",
       "       1.30017059e-61, 9.43815249e-62, 6.85131038e-62, 4.97347907e-62,\n",
       "       3.61033039e-62, 2.62079831e-62, 1.90248067e-62, 1.38104206e-62,\n",
       "       1.00252118e-62, 7.27746641e-63, 5.28283275e-63, 3.83489533e-63,\n",
       "       2.78381369e-63, 2.02081622e-63, 1.46694379e-63, 1.06487866e-63])"
      ]
     },
     "execution_count": 156,
     "metadata": {},
     "output_type": "execute_result"
    }
   ],
   "source": [
    "sigmoid(w1,w2,x1,x2,b)"
   ]
  },
  {
   "cell_type": "code",
   "execution_count": 157,
   "metadata": {},
   "outputs": [
    {
     "data": {
      "text/plain": [
       "[<matplotlib.lines.Line2D at 0x160fc326d48>]"
      ]
     },
     "execution_count": 157,
     "metadata": {},
     "output_type": "execute_result"
    },
    {
     "data": {
      "image/png": "[encoded data removed]",
      "text/plain": [
       "<Figure size 432x288 with 1 Axes>"
      ]
     },
     "metadata": {
      "needs_background": "light"
     },
     "output_type": "display_data"
    }
   ],
   "source": [
    "plt.plot(sigmoid(w1,w2,x1,x2,b))"
   ]
  },
  {
   "cell_type": "code",
   "execution_count": 158,
   "metadata": {},
   "outputs": [],
   "source": [
    "from mpl_toolkits import mplot3d"
   ]
  },
  {
   "cell_type": "code",
   "execution_count": 159,
   "metadata": {},
   "outputs": [],
   "source": [
    "xx1,xx2=np.meshgrid(x1,x2)"
   ]
  },
  {
   "cell_type": "code",
   "execution_count": 160,
   "metadata": {},
   "outputs": [
    {
     "data": {
      "text/plain": [
       "(1000, 1000)"
      ]
     },
     "execution_count": 160,
     "metadata": {},
     "output_type": "execute_result"
    }
   ],
   "source": [
    "xx1.shape"
   ]
  },
  {
   "cell_type": "code",
   "execution_count": 161,
   "metadata": {},
   "outputs": [
    {
     "data": {
      "text/plain": [
       "(1000,)"
      ]
     },
     "execution_count": 161,
     "metadata": {},
     "output_type": "execute_result"
    }
   ],
   "source": [
    "x1.shape"
   ]
  },
  {
   "cell_type": "code",
   "execution_count": 162,
   "metadata": {},
   "outputs": [],
   "source": [
    "y=sigmoid(xx1,xx2,w1,w2,b)"
   ]
  },
  {
   "cell_type": "code",
   "execution_count": 163,
   "metadata": {},
   "outputs": [
    {
     "data": {
      "text/plain": [
       "<mpl_toolkits.mplot3d.art3d.Poly3DCollection at 0x160fc1e5e88>"
      ]
     },
     "execution_count": 163,
     "metadata": {},
     "output_type": "execute_result"
    },
    {
     "data": {
      "image/png": "[encoded data removed]",
      "text/plain": [
       "<Figure size 432x288 with 1 Axes>"
      ]
     },
     "metadata": {
      "needs_background": "light"
     },
     "output_type": "display_data"
    }
   ],
   "source": [
    "fig=plt.figure()\n",
    "ax=plt.axes(projection='3d')\n",
    "ax.plot_surface(xx1,xx2,y,cmap='viridis')\n"
   ]
  },
  {
   "cell_type": "markdown",
   "metadata": {},
   "source": [
    "# Compute Loss for a given Data set\n"
   ]
  },
  {
   "cell_type": "code",
   "execution_count": 175,
   "metadata": {},
   "outputs": [],
   "source": [
    "X=np.random.random(25)*20-10"
   ]
  },
  {
   "cell_type": "code",
   "execution_count": 176,
   "metadata": {},
   "outputs": [
    {
     "data": {
      "text/plain": [
       "array([-1.4282015 , -8.2807095 , -3.16571486, -0.34593922,  8.5424661 ,\n",
       "       -1.25095676, -2.58544531,  1.3389836 ,  1.02311431,  1.88764689,\n",
       "        7.0097597 , -7.75229592,  8.15723113, -2.02346632,  9.47733177,\n",
       "        6.52651462, -5.96150633,  1.66942733, -7.88262845, -4.61576616,\n",
       "        0.23410526,  7.5141456 ,  9.61931175, -1.90765607,  5.88895828])"
      ]
     },
     "execution_count": 176,
     "metadata": {},
     "output_type": "execute_result"
    }
   ],
   "source": [
    "X"
   ]
  },
  {
   "cell_type": "code",
   "execution_count": 179,
   "metadata": {},
   "outputs": [],
   "source": [
    "w_unk=0.5\n",
    "b_unk=0.5\n",
    "Y=sigmoid(X,w_unk,b_unk)"
   ]
  },
  {
   "cell_type": "code",
   "execution_count": 180,
   "metadata": {},
   "outputs": [
    {
     "data": {
      "text/plain": [
       "array([0.44667834, 0.02557195, 0.25296566, 0.58103665, 0.99160121,\n",
       "       0.4686715 , 0.31158436, 0.76305314, 0.73332478, 0.80904604,\n",
       "       0.98209978, 0.03304927, 0.98983528, 0.37478732, 0.99472069,\n",
       "       0.97731837, 0.07721852, 0.79161926, 0.03102895, 0.14089417,\n",
       "       0.64954792, 0.98603411, 0.99508069, 0.388451  , 0.96906607])"
      ]
     },
     "execution_count": 180,
     "metadata": {},
     "output_type": "execute_result"
    }
   ],
   "source": [
    "Y"
   ]
  },
  {
   "cell_type": "code",
   "execution_count": 181,
   "metadata": {},
   "outputs": [
    {
     "data": {
      "text/plain": [
       "[<matplotlib.lines.Line2D at 0x160fc54d648>]"
      ]
     },
     "execution_count": 181,
     "metadata": {},
     "output_type": "execute_result"
    },
    {
     "data": {
      "image/png": "[encoded data removed]",
      "text/plain": [
       "<Figure size 432x288 with 1 Axes>"
      ]
     },
     "metadata": {
      "needs_background": "light"
     },
     "output_type": "display_data"
    }
   ],
   "source": [
    "plt.plot(X,Y,'*')"
   ]
  },
  {
   "cell_type": "code",
   "execution_count": null,
   "metadata": {},
   "outputs": [],
   "source": []
  }
 ],
 "metadata": {
  "kernelspec": {
   "display_name": "Python 3",
   "language": "python",
   "name": "python3"
  },
  "language_info": {
   "codemirror_mode": {
    "name": "ipython",
    "version": 3
   },
   "file_extension": ".py",
   "mimetype": "text/x-python",
   "name": "python",
   "nbconvert_exporter": "python",
   "pygments_lexer": "ipython3",
   "version": "3.7.6"
  }
 },
 "nbformat": 4,
 "nbformat_minor": 4
}
